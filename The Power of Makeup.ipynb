{
 "cells": [
  {
   "cell_type": "markdown",
   "metadata": {},
   "source": [
    "# Beauty Products Imports (FOB) Value"
   ]
  },
  {
   "cell_type": "markdown",
   "metadata": {},
   "source": [
    "Beauty dataset from Central Bank of Brazil Statistical Database, which was obtained from Quandl. More specifically, you can obtain the csv from this link: https://www.quandl.com/data/BCB/3047-Imports-Fob-Beauty-products.  "
   ]
  },
  {
   "cell_type": "code",
   "execution_count": 1,
   "metadata": {},
   "outputs": [],
   "source": [
    "import pandas as pd\n",
    "import numpy as np\n",
    "import matplotlib.pyplot as plt"
   ]
  },
  {
   "cell_type": "code",
   "execution_count": 2,
   "metadata": {},
   "outputs": [
    {
     "data": {
      "text/html": [
       "<div>\n",
       "<style scoped>\n",
       "    .dataframe tbody tr th:only-of-type {\n",
       "        vertical-align: middle;\n",
       "    }\n",
       "\n",
       "    .dataframe tbody tr th {\n",
       "        vertical-align: top;\n",
       "    }\n",
       "\n",
       "    .dataframe thead th {\n",
       "        text-align: right;\n",
       "    }\n",
       "</style>\n",
       "<table border=\"1\" class=\"dataframe\">\n",
       "  <thead>\n",
       "    <tr style=\"text-align: right;\">\n",
       "      <th></th>\n",
       "      <th>Value</th>\n",
       "    </tr>\n",
       "    <tr>\n",
       "      <th>Date</th>\n",
       "      <th></th>\n",
       "    </tr>\n",
       "  </thead>\n",
       "  <tbody>\n",
       "    <tr>\n",
       "      <th>2001-01-31</th>\n",
       "      <td>16313760</td>\n",
       "    </tr>\n",
       "    <tr>\n",
       "      <th>2001-02-28</th>\n",
       "      <td>14251672</td>\n",
       "    </tr>\n",
       "    <tr>\n",
       "      <th>2001-03-31</th>\n",
       "      <td>20829382</td>\n",
       "    </tr>\n",
       "    <tr>\n",
       "      <th>2001-04-30</th>\n",
       "      <td>17309289</td>\n",
       "    </tr>\n",
       "    <tr>\n",
       "      <th>2001-05-31</th>\n",
       "      <td>20519002</td>\n",
       "    </tr>\n",
       "  </tbody>\n",
       "</table>\n",
       "</div>"
      ],
      "text/plain": [
       "               Value\n",
       "Date                \n",
       "2001-01-31  16313760\n",
       "2001-02-28  14251672\n",
       "2001-03-31  20829382\n",
       "2001-04-30  17309289\n",
       "2001-05-31  20519002"
      ]
     },
     "execution_count": 2,
     "metadata": {},
     "output_type": "execute_result"
    }
   ],
   "source": [
    "mu_df = pd.read_csv(\"makeup_imp_usd.csv\", index_col='Date', parse_dates=True)\n",
    "mu_df = mu_df.sort_values('Date', ascending=True)\n",
    "mu_df.head()"
   ]
  },
  {
   "cell_type": "code",
   "execution_count": 3,
   "metadata": {},
   "outputs": [
    {
     "data": {
      "image/png": "[encoded data removed]",
      "text/plain": [
       "<Figure size 432x288 with 1 Axes>"
      ]
     },
     "metadata": {
      "needs_background": "light"
     },
     "output_type": "display_data"
    }
   ],
   "source": [
    "mu_df.plot()\n",
    "plt.title('Beauty Products Imports')\n",
    "plt.ylabel('Units: US$')\n",
    "plt.show()"
   ]
  },
  {
   "cell_type": "markdown",
   "metadata": {},
   "source": [
    "# ULTA Beauty Inc. Stock "
   ]
  },
  {
   "cell_type": "markdown",
   "metadata": {},
   "source": [
    "API from https://www.alphavantage.co/documentation/. Code referenced from https://github.com/RomelTorres/alpha_vantage. "
   ]
  },
  {
   "cell_type": "code",
   "execution_count": 4,
   "metadata": {},
   "outputs": [],
   "source": [
    "from alpha_vantage.timeseries import TimeSeries"
   ]
  },
  {
   "cell_type": "code",
   "execution_count": 5,
   "metadata": {},
   "outputs": [],
   "source": [
    "api_key = 'your_api_key_here'"
   ]
  },
  {
   "cell_type": "code",
   "execution_count": 6,
   "metadata": {},
   "outputs": [
    {
     "name": "stdout",
     "output_type": "stream",
     "text": [
      "            1. open   2. high    3. low  4. close  5. adjusted close  \\\n",
      "date                                                                   \n",
      "2007-11-30    33.50   33.5000   22.8500     25.74            25.4527   \n",
      "2007-12-31    25.98   28.8500   15.6000     17.15            16.9586   \n",
      "2008-01-31    17.00   17.1000   11.7750     15.24            15.0699   \n",
      "2008-02-29    15.55   16.2500   13.4900     14.01            13.8536   \n",
      "2008-03-31    14.25   17.1200   10.0800     14.04            13.8833   \n",
      "2008-04-30    14.00   14.9900   12.9500     14.15            13.9920   \n",
      "2008-05-30    14.15   15.3100   13.2900     14.26            14.1008   \n",
      "2008-06-30    14.39   14.9699   10.3300     11.24            11.1145   \n",
      "2008-07-31    11.10   12.0500    9.0200      9.43             9.3247   \n",
      "2008-08-29     9.46   12.5400    9.2500     10.88            10.7585   \n",
      "2008-09-30    11.12   14.9500   10.6800     13.28            13.1318   \n",
      "2008-10-31    13.13   13.4200    7.7100      8.82             8.7215   \n",
      "2008-11-28     8.81   10.4000    6.7500      7.18             7.0998   \n",
      "2008-12-31     7.03   11.0800    5.6300      8.28             8.1876   \n",
      "2009-01-30     8.31    9.1700    5.5300      5.83             5.7649   \n",
      "2009-02-27     5.75    6.9100    5.2100      5.60             5.5375   \n",
      "2009-03-31     5.49    7.1400    4.1100      6.62             6.5461   \n",
      "2009-04-30     6.49    9.0000    6.1800      8.75             8.6523   \n",
      "2009-05-29     8.75    9.1900    8.0600      8.56             8.4644   \n",
      "2009-06-30     8.65   12.0000    8.6000     11.12            10.9959   \n",
      "2009-07-31    11.39   11.6200   10.2500     11.33            11.2035   \n",
      "2009-08-31    11.39   12.0000   10.0600     11.52            11.3914   \n",
      "2009-09-30    11.51   16.8000   11.5100     16.51            16.3257   \n",
      "2009-10-30    16.48   17.8500   15.0000     15.14            14.9710   \n",
      "2009-11-30    15.13   18.2100   14.6200     16.43            16.2466   \n",
      "2009-12-31    16.51   19.2500   16.5100     18.16            17.9573   \n",
      "2010-01-29    19.23   21.6200   18.5600     19.40            19.1834   \n",
      "2010-02-26    19.49   19.9900   17.0500     18.33            18.1254   \n",
      "2010-03-31    18.50   23.4500   18.3830     22.62            22.3675   \n",
      "2010-04-30    22.81   25.7600   21.6400     23.12            22.8619   \n",
      "...             ...       ...       ...       ...                ...   \n",
      "2016-09-30   246.67  250.0000  230.1000    237.98           237.9800   \n",
      "2016-10-31   236.81  268.7800  235.1000    243.34           243.3400   \n",
      "2016-11-30   242.82  265.3750  225.1300    259.50           259.5000   \n",
      "2016-12-30   259.85  273.9900  244.7500    254.94           254.9400   \n",
      "2017-01-31   256.20  273.9900  255.6100    272.28           272.2800   \n",
      "2017-02-28   272.38  278.4500  267.2500    273.43           273.4300   \n",
      "2017-03-31   276.59  289.2700  268.2300    285.23           285.2300   \n",
      "2017-04-28   285.51  287.4600  276.0200    281.44           281.4400   \n",
      "2017-05-31   281.78  310.0000  277.6800    304.84           304.8400   \n",
      "2017-06-30   304.45  314.8600  280.3200    287.34           287.3400   \n",
      "2017-07-31   287.70  288.3400  243.2800    251.21           251.2100   \n",
      "2017-08-31   253.14  257.0600  204.0100    221.01           221.0100   \n",
      "2017-09-29   221.12  231.2800  218.1300    226.06           226.0600   \n",
      "2017-10-31   226.93  227.7900  187.9600    201.79           201.7900   \n",
      "2017-11-30   203.79  227.4000  191.8000    221.71           221.7100   \n",
      "2017-12-29   208.07  230.8900  201.0000    223.66           223.6600   \n",
      "2018-01-31   224.44  249.3000  220.6700    222.10           222.1000   \n",
      "2018-02-28   220.60  224.3900  198.2900    203.35           203.3500   \n",
      "2018-03-29   203.62  223.5000  191.7010    204.27           204.2700   \n",
      "2018-04-30   204.28  257.6300  199.1500    250.91           250.9100   \n",
      "2018-05-31   252.06  261.4000  242.6000    246.91           246.9100   \n",
      "2018-06-29   235.99  259.6200  233.2200    233.46           233.4600   \n",
      "2018-07-31   231.12  260.5000  228.3800    244.39           244.3900   \n",
      "2018-08-31   243.92  268.8750  229.6200    260.00           260.0000   \n",
      "2018-09-28   260.00  290.2950  258.2700    282.12           282.1200   \n",
      "2018-10-31   284.12  287.0500  263.0050    274.52           274.5200   \n",
      "2018-11-30   275.90  322.4899  272.2100    297.79           297.7900   \n",
      "2018-12-31   303.88  311.3000  224.4301    244.84           244.8400   \n",
      "2019-01-31   239.96  294.4400  239.3100    291.92           291.9200   \n",
      "2019-02-01   292.38  293.3900  288.0100    291.36           291.3600   \n",
      "\n",
      "             6. volume  7. dividend amount  \n",
      "date                                        \n",
      "2007-11-30   6500200.0                 0.0  \n",
      "2007-12-31  10423000.0                 0.0  \n",
      "2008-01-31  11051300.0                 0.0  \n",
      "2008-02-29   3441800.0                 0.0  \n",
      "2008-03-31   4759100.0                 0.0  \n",
      "2008-04-30   5000300.0                 0.0  \n",
      "2008-05-30   6032000.0                 0.0  \n",
      "2008-06-30   8275100.0                 0.0  \n",
      "2008-07-31  10354900.0                 0.0  \n",
      "2008-08-29   7903000.0                 0.0  \n",
      "2008-09-30  12166100.0                 0.0  \n",
      "2008-10-31   7453800.0                 0.0  \n",
      "2008-11-28   4174400.0                 0.0  \n",
      "2008-12-31   6672800.0                 0.0  \n",
      "2009-01-30   7291000.0                 0.0  \n",
      "2009-02-27   3868100.0                 0.0  \n",
      "2009-03-31   4448800.0                 0.0  \n",
      "2009-04-30   5347700.0                 0.0  \n",
      "2009-05-29   3557100.0                 0.0  \n",
      "2009-06-30   9881200.0                 0.0  \n",
      "2009-07-31   5631600.0                 0.0  \n",
      "2009-08-31   3602700.0                 0.0  \n",
      "2009-09-30  10523700.0                 0.0  \n",
      "2009-10-30   6208200.0                 0.0  \n",
      "2009-11-30   4066100.0                 0.0  \n",
      "2009-12-31   6761300.0                 0.0  \n",
      "2010-01-29   7479000.0                 0.0  \n",
      "2010-02-26   5191400.0                 0.0  \n",
      "2010-03-31  11271900.0                 0.0  \n",
      "2010-04-30   8715100.0                 0.0  \n",
      "...                ...                 ...  \n",
      "2016-09-30  18069579.0                 0.0  \n",
      "2016-10-31  19319821.0                 0.0  \n",
      "2016-11-30  17608235.0                 0.0  \n",
      "2016-12-30  19592401.0                 0.0  \n",
      "2017-01-31  11890379.0                 0.0  \n",
      "2017-02-28   9301134.0                 0.0  \n",
      "2017-03-31  19828547.0                 0.0  \n",
      "2017-04-28   9101275.0                 0.0  \n",
      "2017-05-31  17975364.0                 0.0  \n",
      "2017-06-30  16017642.0                 0.0  \n",
      "2017-07-31  25403826.0                 0.0  \n",
      "2017-08-31  36329075.0                 0.0  \n",
      "2017-09-29  20918843.0                 0.0  \n",
      "2017-10-31  33698476.0                 0.0  \n",
      "2017-11-30  24475909.0                 0.0  \n",
      "2017-12-29  30192523.0                 0.0  \n",
      "2018-01-31  25351384.0                 0.0  \n",
      "2018-02-28  21564702.0                 0.0  \n",
      "2018-03-29  29791992.0                 0.0  \n",
      "2018-04-30  23713773.0                 0.0  \n",
      "2018-05-31  18716840.0                 0.0  \n",
      "2018-06-29  24331556.0                 0.0  \n",
      "2018-07-31  14973195.0                 0.0  \n",
      "2018-08-31  23021553.0                 0.0  \n",
      "2018-09-28  20675589.0                 0.0  \n",
      "2018-10-31  19365090.0                 0.0  \n",
      "2018-11-30  23219005.0                 0.0  \n",
      "2018-12-31  25404104.0                 0.0  \n",
      "2019-01-31  15668832.0                 0.0  \n",
      "2019-02-01    519428.0                 0.0  \n",
      "\n",
      "[136 rows x 7 columns]\n"
     ]
    }
   ],
   "source": [
    "ts = TimeSeries(key=api_key, output_format='pandas')\n",
    "data, meta_data = ts.get_monthly_adjusted('ULTA')\n",
    "data.set_index(pd.to_datetime(data.index), inplace=True)\n",
    "print(data)"
   ]
  },
  {
   "cell_type": "code",
   "execution_count": 7,
   "metadata": {},
   "outputs": [
    {
     "data": {
      "image/png": "[encoded data removed]",
      "text/plain": [
       "<Figure size 432x288 with 1 Axes>"
      ]
     },
     "metadata": {
      "needs_background": "light"
     },
     "output_type": "display_data"
    }
   ],
   "source": [
    "plt.plot(data['4. close'], 'r')\n",
    "plt.title('Monthly Adjusted Time Series for ULTA stock')\n",
    "plt.xlabel('Date')\n",
    "plt.ylabel('in USD')\n",
    "plt.show()"
   ]
  },
  {
   "cell_type": "code",
   "execution_count": null,
   "metadata": {},
   "outputs": [],
   "source": []
  }
 ],
 "metadata": {
  "kernelspec": {
   "display_name": "Python 3",
   "language": "python",
   "name": "python3"
  },
  "language_info": {
   "codemirror_mode": {
    "name": "ipython",
    "version": 3
   },
   "file_extension": ".py",
   "mimetype": "text/x-python",
   "name": "python",
   "nbconvert_exporter": "python",
   "pygments_lexer": "ipython3",
   "version": "3.7.0"
  }
 },
 "nbformat": 4,
 "nbformat_minor": 2
}
