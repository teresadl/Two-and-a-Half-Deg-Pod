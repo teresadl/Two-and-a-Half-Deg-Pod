{
 "cells": [
  {
   "cell_type": "markdown",
   "metadata": {},
   "source": [
    "Financial highlights for Nintendo were obtained using this link: https://www.nintendo.co.jp/ir/en/finance/highlight/index.html and data from youtube were obtained from Youtube's API."
   ]
  },
  {
   "cell_type": "markdown",
   "metadata": {},
   "source": [
    "# PewDiePie"
   ]
  },
  {
   "cell_type": "code",
   "execution_count": 266,
   "metadata": {},
   "outputs": [],
   "source": [
    "from youtube_videos import youtube_search\n",
    "import json\n",
    "from apiclient.discovery import build"
   ]
  },
  {
   "cell_type": "code",
   "execution_count": 267,
   "metadata": {},
   "outputs": [],
   "source": [
    "youtube = build('youtube','v3', developerKey=api_key)"
   ]
  },
  {
   "cell_type": "code",
   "execution_count": 268,
   "metadata": {},
   "outputs": [],
   "source": [
    "req = youtube.channels().list(forUsername='PewDiePie',part='snippet, statistics, topicDetails')\n",
    "res = req.execute()"
   ]
  },
  {
   "cell_type": "code",
   "execution_count": 269,
   "metadata": {},
   "outputs": [
    {
     "data": {
      "text/plain": [
       "[{'kind': 'youtube#channel',\n",
       "  'etag': '\"XpPGQXPnxQJhLgs6enD_n8JR4Qk/ZXdYi_hHlY7fgj8CLkCt51HJJhE\"',\n",
       "  'id': 'UC-lHJZR3Gqxm24_Vd_AJ5Yw',\n",
       "  'snippet': {'title': 'PewDiePie',\n",
       "   'description': 'I make videos.',\n",
       "   'customUrl': 'PewDiePie',\n",
       "   'publishedAt': '2010-04-29T10:54:00.000Z',\n",
       "   'thumbnails': {'default': {'url': 'https://yt3.ggpht.com/a-/AAuE7mAPBVgUYqlLw9SvJyKAVWmgkQ2-KrkgSv4_5A=s88-mo-c-c0xffffffff-rj-k-no',\n",
       "     'width': 88,\n",
       "     'height': 88},\n",
       "    'medium': {'url': 'https://yt3.ggpht.com/a-/AAuE7mAPBVgUYqlLw9SvJyKAVWmgkQ2-KrkgSv4_5A=s240-mo-c-c0xffffffff-rj-k-no',\n",
       "     'width': 240,\n",
       "     'height': 240},\n",
       "    'high': {'url': 'https://yt3.ggpht.com/a-/AAuE7mAPBVgUYqlLw9SvJyKAVWmgkQ2-KrkgSv4_5A=s800-mo-c-c0xffffffff-rj-k-no',\n",
       "     'width': 800,\n",
       "     'height': 800}},\n",
       "   'localized': {'title': 'PewDiePie', 'description': 'I make videos.'},\n",
       "   'country': 'US'},\n",
       "  'statistics': {'viewCount': '20088058539',\n",
       "   'commentCount': '0',\n",
       "   'subscriberCount': '81197613',\n",
       "   'hiddenSubscriberCount': False,\n",
       "   'videoCount': '3721'},\n",
       "  'topicDetails': {'topicIds': ['/m/0bzvm2', '/m/0bzvm2'],\n",
       "   'topicCategories': ['https://en.wikipedia.org/wiki/Video_game_culture']}}]"
      ]
     },
     "execution_count": 269,
     "metadata": {},
     "output_type": "execute_result"
    }
   ],
   "source": [
    "res['items']"
   ]
  },
  {
   "cell_type": "code",
   "execution_count": 270,
   "metadata": {
    "scrolled": true
   },
   "outputs": [
    {
     "name": "stdout",
     "output_type": "stream",
     "text": [
      "{'viewCount': '20088058539', 'commentCount': '0', 'subscriberCount': '81197613', 'hiddenSubscriberCount': False, 'videoCount': '3721'}\n"
     ]
    }
   ],
   "source": [
    "for item in res['items']:\n",
    "    print(item['statistics'])"
   ]
  },
  {
   "cell_type": "markdown",
   "metadata": {},
   "source": [
    "# Nintendo"
   ]
  },
  {
   "cell_type": "code",
   "execution_count": 271,
   "metadata": {},
   "outputs": [],
   "source": [
    "import pandas as pd\n",
    "import numpy as np\n",
    "import matplotlib.pyplot as plt"
   ]
  },
  {
   "cell_type": "code",
   "execution_count": 272,
   "metadata": {},
   "outputs": [],
   "source": [
    "nintendo_is_df = pd.read_csv(\"consolidated_pl.csv\")\n",
    "nintendo_df = nintendo_is_df.drop(['Consolidated Statements of Income Transition', '(In millions of yen)', \n",
    "                                   'Unnamed: 3', '(Note)', 'Unnamed: 18'], axis=1)\n",
    "nintendo_df = nintendo_df.dropna(how='all')"
   ]
  },
  {
   "cell_type": "code",
   "execution_count": 273,
   "metadata": {},
   "outputs": [],
   "source": [
    "col_of_interest = ['Net sales', 'Gross profit', 'Operating profit', 'Year']"
   ]
  },
  {
   "cell_type": "code",
   "execution_count": 274,
   "metadata": {},
   "outputs": [],
   "source": [
    "def clean_df(df, col):\n",
    "    \n",
    "    for i in range(3):\n",
    "        sales = col[i]\n",
    "        df[sales] = df[sales].str.replace(\",\",\"\").astype(float)\n",
    "    return df "
   ]
  },
  {
   "cell_type": "code",
   "execution_count": 275,
   "metadata": {},
   "outputs": [
    {
     "data": {
      "text/html": [
       "<div>\n",
       "<style scoped>\n",
       "    .dataframe tbody tr th:only-of-type {\n",
       "        vertical-align: middle;\n",
       "    }\n",
       "\n",
       "    .dataframe tbody tr th {\n",
       "        vertical-align: top;\n",
       "    }\n",
       "\n",
       "    .dataframe thead th {\n",
       "        text-align: right;\n",
       "    }\n",
       "</style>\n",
       "<table border=\"1\" class=\"dataframe\">\n",
       "  <thead>\n",
       "    <tr style=\"text-align: right;\">\n",
       "      <th></th>\n",
       "      <th>Nintendo Co., Ltd.</th>\n",
       "      <th>Year</th>\n",
       "      <th>Net sales</th>\n",
       "      <th>Gross profit</th>\n",
       "      <th>(Gross profit ratio)</th>\n",
       "      <th>Operating profit</th>\n",
       "      <th>(Operating profit ratio)</th>\n",
       "      <th>Ordinary profit</th>\n",
       "      <th>(Ordinary profit ratio)</th>\n",
       "      <th>Profit before income taxes</th>\n",
       "      <th>Profit attributable to\n",
       " owners of parent</th>\n",
       "      <th>(Profit attributable to\n",
       " owners of parent ratio)</th>\n",
       "      <th>Foreign exchange gains</th>\n",
       "      <th>Foreign exchange losses</th>\n",
       "      <th></th>\n",
       "    </tr>\n",
       "  </thead>\n",
       "  <tbody>\n",
       "    <tr>\n",
       "      <th>0</th>\n",
       "      <td>NaN</td>\n",
       "      <td>FY8/1981</td>\n",
       "      <td>23948.0</td>\n",
       "      <td>8026.0</td>\n",
       "      <td>(33.5%)</td>\n",
       "      <td>4310.0</td>\n",
       "      <td>(18.0%)</td>\n",
       "      <td>4,124</td>\n",
       "      <td>(17.2%)</td>\n",
       "      <td>4,125</td>\n",
       "      <td>1,640</td>\n",
       "      <td>(6.8%)</td>\n",
       "      <td>-</td>\n",
       "      <td>-</td>\n",
       "      <td>NaN</td>\n",
       "    </tr>\n",
       "    <tr>\n",
       "      <th>1</th>\n",
       "      <td>NaN</td>\n",
       "      <td>FY8/1982</td>\n",
       "      <td>66141.0</td>\n",
       "      <td>31487.0</td>\n",
       "      <td>(47.6%)</td>\n",
       "      <td>22702.0</td>\n",
       "      <td>(34.3%)</td>\n",
       "      <td>23,609</td>\n",
       "      <td>(35.7%)</td>\n",
       "      <td>23,662</td>\n",
       "      <td>10,711</td>\n",
       "      <td>(16.2%)</td>\n",
       "      <td>-</td>\n",
       "      <td>286</td>\n",
       "      <td>NaN</td>\n",
       "    </tr>\n",
       "    <tr>\n",
       "      <th>2</th>\n",
       "      <td>NaN</td>\n",
       "      <td>FY8/1983</td>\n",
       "      <td>67715.0</td>\n",
       "      <td>30653.0</td>\n",
       "      <td>(45.3%)</td>\n",
       "      <td>20592.0</td>\n",
       "      <td>(30.4%)</td>\n",
       "      <td>23,091</td>\n",
       "      <td>(34.1%)</td>\n",
       "      <td>23,120</td>\n",
       "      <td>10,462</td>\n",
       "      <td>(15.4%)</td>\n",
       "      <td>-</td>\n",
       "      <td>68</td>\n",
       "      <td>NaN</td>\n",
       "    </tr>\n",
       "    <tr>\n",
       "      <th>3</th>\n",
       "      <td>NaN</td>\n",
       "      <td>FY8/1984</td>\n",
       "      <td>68140.0</td>\n",
       "      <td>26400.0</td>\n",
       "      <td>(38.7%)</td>\n",
       "      <td>16641.0</td>\n",
       "      <td>(24.4%)</td>\n",
       "      <td>18,332</td>\n",
       "      <td>(26.9%)</td>\n",
       "      <td>18,332</td>\n",
       "      <td>9,433</td>\n",
       "      <td>(13.8%)</td>\n",
       "      <td>-</td>\n",
       "      <td>95</td>\n",
       "      <td>NaN</td>\n",
       "    </tr>\n",
       "    <tr>\n",
       "      <th>4</th>\n",
       "      <td>NaN</td>\n",
       "      <td>FY8/1985</td>\n",
       "      <td>81428.0</td>\n",
       "      <td>31875.0</td>\n",
       "      <td>(39.2%)</td>\n",
       "      <td>20701.0</td>\n",
       "      <td>(25.4%)</td>\n",
       "      <td>22,323</td>\n",
       "      <td>(27.4%)</td>\n",
       "      <td>22,429</td>\n",
       "      <td>9,823</td>\n",
       "      <td>(12.1%)</td>\n",
       "      <td>90</td>\n",
       "      <td>-</td>\n",
       "      <td>NaN</td>\n",
       "    </tr>\n",
       "  </tbody>\n",
       "</table>\n",
       "</div>"
      ],
      "text/plain": [
       "   Nintendo Co., Ltd.      Year  Net sales  Gross profit (Gross profit ratio)  \\\n",
       "0                 NaN  FY8/1981    23948.0        8026.0              (33.5%)   \n",
       "1                 NaN  FY8/1982    66141.0       31487.0              (47.6%)   \n",
       "2                 NaN  FY8/1983    67715.0       30653.0              (45.3%)   \n",
       "3                 NaN  FY8/1984    68140.0       26400.0              (38.7%)   \n",
       "4                 NaN  FY8/1985    81428.0       31875.0              (39.2%)   \n",
       "\n",
       "   Operating profit (Operating profit ratio) Ordinary profit  \\\n",
       "0            4310.0                  (18.0%)           4,124   \n",
       "1           22702.0                  (34.3%)          23,609   \n",
       "2           20592.0                  (30.4%)          23,091   \n",
       "3           16641.0                  (24.4%)          18,332   \n",
       "4           20701.0                  (25.4%)          22,323   \n",
       "\n",
       "  (Ordinary profit ratio) Profit before income taxes  \\\n",
       "0                 (17.2%)                      4,125   \n",
       "1                 (35.7%)                     23,662   \n",
       "2                 (34.1%)                     23,120   \n",
       "3                 (26.9%)                     18,332   \n",
       "4                 (27.4%)                     22,429   \n",
       "\n",
       "  Profit attributable to\\n owners of parent  \\\n",
       "0                                     1,640   \n",
       "1                                    10,711   \n",
       "2                                    10,462   \n",
       "3                                     9,433   \n",
       "4                                     9,823   \n",
       "\n",
       "  (Profit attributable to\\n owners of parent ratio) Foreign exchange gains  \\\n",
       "0                                            (6.8%)                      -   \n",
       "1                                           (16.2%)                      -   \n",
       "2                                           (15.4%)                      -   \n",
       "3                                           (13.8%)                      -   \n",
       "4                                           (12.1%)                     90   \n",
       "\n",
       "  Foreign exchange losses                 \n",
       "0                       -            NaN  \n",
       "1                     286            NaN  \n",
       "2                      68            NaN  \n",
       "3                      95            NaN  \n",
       "4                       -            NaN  "
      ]
     },
     "execution_count": 275,
     "metadata": {},
     "output_type": "execute_result"
    }
   ],
   "source": [
    "nintendo_df = clean_df(nintendo_df, col_of_interest)\n",
    "nintendo_df.head()"
   ]
  },
  {
   "cell_type": "code",
   "execution_count": 277,
   "metadata": {},
   "outputs": [
    {
     "data": {
      "image/png": "[encoded data removed]",
      "text/plain": [
       "<Figure size 432x288 with 1 Axes>"
      ]
     },
     "metadata": {
      "needs_background": "light"
     },
     "output_type": "display_data"
    }
   ],
   "source": [
    "year = list(range(1981, 2019))\n",
    "plt.title('Nintendo Net Sales in JPY')\n",
    "total_ta_plt = plt.bar(year, nintendo_df['Net sales'], align='center', alpha=1)\n",
    "plt.ylabel('Million Yen')\n",
    "plt.show()"
   ]
  },
  {
   "cell_type": "code",
   "execution_count": null,
   "metadata": {},
   "outputs": [],
   "source": []
  }
 ],
 "metadata": {
  "kernelspec": {
   "display_name": "Python 3",
   "language": "python",
   "name": "python3"
  },
  "language_info": {
   "codemirror_mode": {
    "name": "ipython",
    "version": 3
   },
   "file_extension": ".py",
   "mimetype": "text/x-python",
   "name": "python",
   "nbconvert_exporter": "python",
   "pygments_lexer": "ipython3",
   "version": "3.7.0"
  }
 },
 "nbformat": 4,
 "nbformat_minor": 2
}
